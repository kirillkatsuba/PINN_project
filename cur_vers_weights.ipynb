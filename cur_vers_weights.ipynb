{
 "cells": [
  {
   "cell_type": "code",
   "execution_count": 1,
   "id": "d8f9ee1f",
   "metadata": {},
   "outputs": [],
   "source": [
    "import time as clock\n",
    "import torch\n",
    "import torch.nn as nn\n",
    "import torch.nn.functional as F\n",
    "import numpy as np\n",
    "import matplotlib.pyplot as plt"
   ]
  },
  {
   "cell_type": "markdown",
   "id": "2ec7765b",
   "metadata": {},
   "source": [
    "\n",
    "$\\frac{\\partial T}{\\partial t} - \\frac{{\\partial}^2 T}{\\partial x^2} = 0$\n",
    "\n",
    "$ T(t, x) = 2 + e^{-4 \\pi^2 t} sin(2\\pi x) + e^{-16\\pi^2 t} cos(4\\pi x)$, $x\\in[0,1], t\\in[0, 0.05]$\n",
    "$\\\\$$T_0 = T(0, x) = 2 + sin(2\\pi x) + cos(4\\pi x)$"
   ]
  },
  {
   "cell_type": "markdown",
   "id": "552b0337",
   "metadata": {},
   "source": [
    "$$loss1 = 0.0005820306250825524$$\n",
    "\n",
    "$$loss2 = 0.0003718257066793741$$\n",
    "\n",
    "$$loss3 = 0.0008028125739656389$$"
   ]
  },
  {
   "cell_type": "code",
   "execution_count": 2,
   "id": "10b02e3f",
   "metadata": {},
   "outputs": [],
   "source": [
    "#define amount of sample points\n",
    "N = 2000"
   ]
  },
  {
   "cell_type": "code",
   "execution_count": 3,
   "id": "b55092ec",
   "metadata": {},
   "outputs": [],
   "source": [
    "def thermal_conductivity_equation(x):\n",
    "    return (2 + torch.exp(-4*(torch.pi**2)*x[0])*torch.sin(2*torch.pi*x[1]) + torch.exp(-16*(torch.pi**2)*x[0])*torch.cos(4*torch.pi*x[1]))\n",
    "\n",
    "# function depicting a real graph and a predicted one\n",
    "def check_current_situation(cur_model):\n",
    "    x = torch.linspace(0, 1, 100)\n",
    "    time = torch.zeros(100)\n",
    "    real_temp = thermal_conductivity_equation([time, x])\n",
    "\n",
    "    test_points = torch.stack((time, x), axis = -1)\n",
    "\n",
    "    pinn_temp = cur_model(test_points)\n",
    "\n",
    "    plt.plot(x.detach(), pinn_temp.detach())\n",
    "    plt.plot(x, real_temp)\n",
    "\n",
    "    plt.plot()\n",
    "    plt.show()"
   ]
  },
  {
   "cell_type": "code",
   "execution_count": 4,
   "id": "71d056d4",
   "metadata": {},
   "outputs": [
    {
     "data": {
      "text/plain": [
       "<torch._C.Generator at 0x105341890>"
      ]
     },
     "execution_count": 4,
     "metadata": {},
     "output_type": "execute_result"
    }
   ],
   "source": [
    "x_physics = torch.rand(N).requires_grad_(True)\n",
    "time_physics = 0.05 * torch.rand(N).requires_grad_(True)\n",
    "\n",
    "points_for_pinn_model = torch.stack((time_physics, x_physics), -1)\n",
    "boundary_condition_points = torch.stack((torch.zeros(N), x_physics), -1)\n",
    "\n",
    "torch.manual_seed(123)"
   ]
  },
  {
   "cell_type": "code",
   "execution_count": 5,
   "id": "10479265",
   "metadata": {},
   "outputs": [],
   "source": [
    "#define the class PINN\n",
    "class PINN(nn.Module):\n",
    "    def __init__(self, input_layer = 2, hidden_layer = 64, number_layers = 3, output_layer = 1):\n",
    "        super().__init__()\n",
    "        \n",
    "        activation = nn.Tanh\n",
    "        \n",
    "        self.fcs = nn.Sequential(*\n",
    "            [\n",
    "                nn.Linear(input_layer, hidden_layer),\n",
    "                activation()\n",
    "            ]\n",
    "        )\n",
    "        \n",
    "        self.fch = nn.Sequential(*\n",
    "            [\n",
    "                nn.Sequential(*\n",
    "                    [\n",
    "                        nn.Linear(hidden_layer, hidden_layer),\n",
    "                        activation()\n",
    "                    ]\n",
    "                ) for _ in range(number_layers - 1)\n",
    "            ]\n",
    "        )\n",
    "        \n",
    "        self.fce = nn.Linear(hidden_layer, output_layer)\n",
    "        \n",
    "        \n",
    "    def forward(self, x):\n",
    "        x = self.fcs(x)\n",
    "        x = self.fch(x)\n",
    "        x = self.fce(x)\n",
    "        \n",
    "        return x"
   ]
  },
  {
   "cell_type": "code",
   "execution_count": 9,
   "id": "52188dab",
   "metadata": {},
   "outputs": [],
   "source": [
    "def loss_weights(loss_data, loss_bound, loss_phys):\n",
    "    w_bound = 1.0\n",
    "    w_data = 1.0 / (1 + np.sqrt(20000) * loss_bound)\n",
    "    w_phys = 1.0 / ((1 + np.sqrt(20000) * loss_bound) * (1 + np.sqrt(2000) * loss_data))\n",
    "    #return w_data / (w_bound + w_data + w_phys), w_bound / (w_bound + w_data + w_phys), w_phys / (w_bound + w_data + w_phys)\n",
    "    return w_data, w_bound, w_phys"
   ]
  },
  {
   "cell_type": "code",
   "execution_count": 10,
   "id": "ac6c114b",
   "metadata": {},
   "outputs": [],
   "source": [
    "pinn_model = PINN()\n",
    "optimizer = torch.optim.Adam(pinn_model.parameters(), lr=0.001)\n",
    "#optimizer = torch.optim.Adam(pinn_model.parameters(), lr = 0.001)\n",
    "#scheduler = torch.optim.lr_scheduler.StepLR(optimizer, step_size = 2500, gamma=0.7)\n",
    "#scheduler = torch.optim.lr_scheduler.ReduceLROnPlateau(optimizer, mode=\"min\", factor = 0.8)"
   ]
  },
  {
   "cell_type": "code",
   "execution_count": 13,
   "id": "678e365e",
   "metadata": {
    "scrolled": false
   },
   "outputs": [
    {
     "name": "stdout",
     "output_type": "stream",
     "text": [
      "epoch: 0\tloss: (0.17119884490966797, 0.02939465083181858, 0.09578163176774979, 0.04602256417274475)\t\n",
      "epoch: 250\tloss: (0.16528268158435822, 0.028073163703083992, 0.10087001323699951, 0.03633950650691986)\t\n",
      "epoch: 500\tloss: (0.16476470232009888, 0.02766343764960766, 0.10161493718624115, 0.03548631817102432)\t\n",
      "epoch: 750\tloss: (0.16447818279266357, 0.027559174224734306, 0.10184746235609055, 0.03507155179977417)\t\n",
      "epoch: 1000\tloss: (0.16422691941261292, 0.027514327317476273, 0.10197639465332031, 0.03473619744181633)\t\n",
      "epoch: 1250\tloss: (0.16397994756698608, 0.027483893558382988, 0.1020740270614624, 0.034422021359205246)\t\n",
      "epoch: 1500\tloss: (0.16372770071029663, 0.027461787685751915, 0.10215567797422409, 0.034110233187675476)\t\n",
      "epoch: 1750\tloss: (0.16346535086631775, 0.027443356812000275, 0.10222786664962769, 0.03379414230585098)\t\n",
      "epoch: 2000\tloss: (0.16319067776203156, 0.027429262176156044, 0.10228950530290604, 0.033471912145614624)\t\n",
      "epoch: 2250\tloss: (0.16290175914764404, 0.027421439066529274, 0.10234014689922333, 0.0331401601433754)\t\n",
      "epoch: 2500\tloss: (0.1625947505235672, 0.027415093034505844, 0.1023813933134079, 0.03279826045036316)\t\n",
      "epoch: 2750\tloss: (0.16226866841316223, 0.02741093561053276, 0.10241234302520752, 0.032445382326841354)\t\n",
      "epoch: 3000\tloss: (0.1619207113981247, 0.02740759216248989, 0.10243314504623413, 0.03207997977733612)\t\n",
      "epoch: 3250\tloss: (0.16154803335666656, 0.02740379050374031, 0.10244394093751907, 0.03170030191540718)\t\n",
      "epoch: 3500\tloss: (0.161149263381958, 0.0273969117552042, 0.10244300216436386, 0.031309351325035095)\t\n",
      "epoch: 3750\tloss: (0.16072115302085876, 0.02738603577017784, 0.10243064910173416, 0.03090447187423706)\t\n",
      "epoch: 4000\tloss: (0.16026191413402557, 0.027369899675250053, 0.1024039015173912, 0.03048812411725521)\t\n",
      "epoch: 4250\tloss: (0.15976989269256592, 0.02734893187880516, 0.10235872119665146, 0.030062241479754448)\t\n",
      "epoch: 4500\tloss: (0.15924197435379028, 0.027321504428982735, 0.10229460895061493, 0.029625870287418365)\t\n",
      "epoch: 4750\tloss: (0.1586761474609375, 0.02728777378797531, 0.10220537334680557, 0.02918299473822117)\t\n",
      "epoch: 5000\tloss: (0.15807071328163147, 0.027249015867710114, 0.1020858958363533, 0.028735794126987457)\t\n",
      "epoch: 5250\tloss: (0.15742257237434387, 0.0272054485976696, 0.10193103551864624, 0.02828609012067318)\t\n",
      "epoch: 5500\tloss: (0.15672937035560608, 0.027157697826623917, 0.10173413902521133, 0.02783753164112568)\t\n",
      "epoch: 5750\tloss: (0.15598733723163605, 0.02710714377462864, 0.10149004310369492, 0.02739015407860279)\t\n",
      "epoch: 6000\tloss: (0.15519309043884277, 0.027055049315094948, 0.10119110345840454, 0.026946930214762688)\t\n",
      "epoch: 6250\tloss: (0.1543434113264084, 0.027002904564142227, 0.10083041340112686, 0.0265100859105587)\t\n",
      "epoch: 6500\tloss: (0.15343362092971802, 0.02695118449628353, 0.10040200501680374, 0.026080429553985596)\t\n",
      "epoch: 6750\tloss: (0.1524588167667389, 0.026901649311184883, 0.09990005940198898, 0.02565709874033928)\t\n",
      "epoch: 7000\tloss: (0.15141414105892181, 0.02685512974858284, 0.09931869804859161, 0.025240318849682808)\t\n",
      "epoch: 7250\tloss: (0.1502939611673355, 0.026812398806214333, 0.09865355491638184, 0.024828007444739342)\t\n",
      "epoch: 7500\tloss: (0.14909186959266663, 0.026773326098918915, 0.09790156781673431, 0.02441697008907795)\t\n",
      "epoch: 7750\tloss: (0.14780211448669434, 0.026738088577985764, 0.09705893695354462, 0.024005088955163956)\t\n",
      "epoch: 8000\tloss: (0.14641812443733215, 0.026705512776970863, 0.09612396359443665, 0.02358865737915039)\t\n",
      "epoch: 8250\tloss: (0.14498618245124817, 0.026669740676879883, 0.09508878737688065, 0.02322765439748764)\t\n",
      "epoch: 8500\tloss: (0.14346280694007874, 0.02665763907134533, 0.09403402358293533, 0.022771146148443222)\t\n",
      "epoch: 8750\tloss: (0.14199702441692352, 0.026643136516213417, 0.09295810014009476, 0.022395795211195946)\t\n",
      "epoch: 9000\tloss: (0.140534907579422, 0.026629650965332985, 0.09186989068984985, 0.02203536219894886)\t\n",
      "epoch: 9250\tloss: (0.13911110162734985, 0.02661924809217453, 0.09079401940107346, 0.02169783040881157)\t\n",
      "epoch: 9500\tloss: (0.13766321539878845, 0.026604147627949715, 0.08969596773386002, 0.02136310562491417)\t\n",
      "epoch: 9750\tloss: (0.13624346256256104, 0.026594921946525574, 0.08860792219638824, 0.02104061096906662)\t\n",
      "epoch: 10000\tloss: (0.13483776152133942, 0.026583556085824966, 0.08752766996622086, 0.020726535469293594)\t\n",
      "epoch: 10250\tloss: (0.13345985114574432, 0.026576239615678787, 0.08646328002214432, 0.02042032591998577)\t\n",
      "epoch: 10500\tloss: (0.13209764659404755, 0.0265691839158535, 0.08541037142276764, 0.02011808194220066)\t\n",
      "epoch: 10750\tloss: (0.13075308501720428, 0.026562118902802467, 0.08436858654022217, 0.0198223814368248)\t\n",
      "epoch: 11000\tloss: (0.12945470213890076, 0.02656097337603569, 0.08334426581859589, 0.019549459218978882)\t\n",
      "epoch: 11250\tloss: (0.12813574075698853, 0.02654792182147503, 0.08233059197664261, 0.019257230684161186)\t\n",
      "epoch: 11500\tloss: (0.126870259642601, 0.026542503386735916, 0.08132444322109222, 0.01900332048535347)\t\n",
      "epoch: 11750\tloss: (0.12557926774024963, 0.02652692422270775, 0.08032354712486267, 0.018728794530034065)\t\n",
      "epoch: 12000\tloss: (0.1243399903178215, 0.026513418182730675, 0.07934336364269257, 0.018483208492398262)\t\n",
      "epoch: 12250\tloss: (0.12310664355754852, 0.02649463154375553, 0.07836760580539703, 0.018244406208395958)\t\n",
      "epoch: 12500\tloss: (0.12189095467329025, 0.026470636948943138, 0.07740468531847, 0.018015632405877113)\t\n",
      "epoch: 12750\tloss: (0.1207064688205719, 0.026444733142852783, 0.07645776122808456, 0.017803974449634552)\t\n",
      "epoch: 13000\tloss: (0.11953581124544144, 0.02641351893544197, 0.07552548497915268, 0.017596803605556488)\t\n",
      "epoch: 13250\tloss: (0.1184019148349762, 0.026382697746157646, 0.07461336255073547, 0.017405852675437927)\t\n",
      "epoch: 13500\tloss: (0.11727046966552734, 0.026344183832406998, 0.07370457798242569, 0.017221707850694656)\t\n",
      "epoch: 13750\tloss: (0.1161564439535141, 0.026304807513952255, 0.07280237227678299, 0.017049267888069153)\t\n",
      "epoch: 14000\tloss: (0.11505439877510071, 0.026262255385518074, 0.0719059631228447, 0.01688617840409279)\t\n",
      "epoch: 14250\tloss: (0.11396437883377075, 0.026220059022307396, 0.07101166993379593, 0.01673264615237713)\t\n",
      "epoch: 14500\tloss: (0.1128903180360794, 0.026175914332270622, 0.07012281566858292, 0.01659158244729042)\t\n",
      "epoch: 14750\tloss: (0.11184312403202057, 0.026138031855225563, 0.06924387067556381, 0.016461219638586044)\t\n",
      "epoch: 15000\tloss: (0.11080939322710037, 0.026100115850567818, 0.06836707144975662, 0.01634220778942108)\t\n",
      "epoch: 15250\tloss: (0.10980038344860077, 0.026065029203891754, 0.06750064343214035, 0.016234710812568665)\t\n",
      "epoch: 15500\tloss: (0.10881052911281586, 0.026025185361504555, 0.06663621962070465, 0.01614912413060665)\t\n",
      "epoch: 15750\tloss: (0.1078326627612114, 0.026001127436757088, 0.06578083336353302, 0.016050703823566437)\t\n",
      "epoch: 16000\tloss: (0.10687878727912903, 0.025971610099077225, 0.06493360549211502, 0.015973567962646484)\t\n",
      "epoch: 16250\tloss: (0.10593676567077637, 0.025942213833332062, 0.06408857554197311, 0.015905972570180893)\t\n",
      "epoch: 16500\tloss: (0.10501344501972198, 0.025914115831255913, 0.06325343996286392, 0.01584588550031185)\t\n",
      "epoch: 16750\tloss: (0.10410115867853165, 0.025885816663503647, 0.0624174028635025, 0.0157979354262352)\t\n",
      "epoch: 17000\tloss: (0.10319571942090988, 0.02585381455719471, 0.06159396469593048, 0.01574794016778469)\t\n",
      "epoch: 17250\tloss: (0.1023157462477684, 0.025825150310993195, 0.060782380402088165, 0.01570821739733219)\t\n",
      "epoch: 17500\tloss: (0.10143221914768219, 0.02578764595091343, 0.05997169017791748, 0.015672888606786728)\t\n",
      "epoch: 17750\tloss: (0.10055188834667206, 0.0257466658949852, 0.0591631680727005, 0.01564205065369606)\t\n",
      "epoch: 18000\tloss: (0.09968031197786331, 0.02569899708032608, 0.05836545303463936, 0.015615860000252724)\t\n",
      "epoch: 18250\tloss: (0.09889814257621765, 0.025653695687651634, 0.05758301168680191, 0.015661433339118958)\t\n",
      "epoch: 18500\tloss: (0.09796731173992157, 0.025593608617782593, 0.05680558830499649, 0.015568115748465061)\t\n",
      "epoch: 18750\tloss: (0.09711796045303345, 0.025524182245135307, 0.05603460967540741, 0.015559163875877857)\t\n",
      "epoch: 19000\tloss: (0.09626132249832153, 0.02545323222875595, 0.0552714578807354, 0.015536637045443058)\t\n",
      "epoch: 19250\tloss: (0.0954165831208229, 0.025367412716150284, 0.05451589077711105, 0.015533273108303547)\t\n"
     ]
    },
    {
     "name": "stdout",
     "output_type": "stream",
     "text": [
      "epoch: 19500\tloss: (0.09455776959657669, 0.02527601085603237, 0.05377527326345444, 0.015506480820477009)\t\n",
      "epoch: 19750\tloss: (0.09370778501033783, 0.025171736255288124, 0.05304429680109024, 0.015491753816604614)\t\n"
     ]
    }
   ],
   "source": [
    "epochs = 20000\n",
    "\n",
    "optimizer.param_groups[0]['lr'] = 0.001\n",
    "for cur_epoch in range(epochs):\n",
    "    optimizer.zero_grad()\n",
    "    \n",
    "    boundary_condition_temp = pinn_model(boundary_condition_points)\n",
    "    network_temp = pinn_model(points_for_pinn_model).requires_grad_(True)\n",
    "    \n",
    "    # compute the \"data loss\"\n",
    "    loss1 = torch.mean((thermal_conductivity_equation([time_physics, x_physics]).view(-1,1) - network_temp)**2).requires_grad_(True)\n",
    "    loss2 = torch.mean((thermal_conductivity_equation([torch.zeros_like(x_physics), x_physics]).view(-1,1) - boundary_condition_temp)**2)\n",
    "    \n",
    "    network_temp = pinn_model(points_for_pinn_model)\n",
    "    \n",
    "    dt = torch.autograd.grad(network_temp, time_physics, torch.ones_like(network_temp), create_graph=True)[0]\n",
    "\n",
    "    # compute dy/dx\n",
    "    dx = torch.autograd.grad(network_temp, x_physics, torch.ones_like(network_temp), create_graph=True)[0]\n",
    "    \n",
    "    # compute d^2y/dx^2\n",
    "    dx2 = torch.autograd.grad(dx,  x_physics, torch.ones_like(dx),  create_graph=True)[0]\n",
    "    \n",
    "    # compute the \"physics loss\"\n",
    "    loss3 = torch.mean((dt - dx2)**2)\n",
    "    dist = loss1+loss2+loss3\n",
    "    \n",
    "    loss = 0.3*loss1 + 0.5*loss2 + 0.2*loss3\n",
    "    loss = 0.3*loss1 + 0.5*loss2 + 0.2*loss3 # 0.3 0.6 0.1 - good\n",
    "#     w1, w2, w3 = loss_weights(loss1, loss2, loss3)\n",
    "#     loss = w1*loss1 + w2*loss2 + w3*loss3\n",
    "    \n",
    "    loss.backward(retain_graph=True)\n",
    "\n",
    "    optimizer.step()\n",
    "    #scheduler.step()\n",
    "    if cur_epoch % 250 == 0:\n",
    "        print(f'epoch: {cur_epoch}\\tloss: {float(dist.detach().numpy()), float(loss1.detach().numpy()), float(loss2.detach().numpy()), float(loss3.detach().numpy())}\\t')\n",
    "#         print(f'weights: {float(w1.detach().numpy()), w2, float(w3.detach().numpy())}\\n')\n",
    "#     if cur_epoch % 5000 == 0:\n",
    "#         check_current_situation(pinn_model) "
   ]
  },
  {
   "cell_type": "markdown",
   "id": "48642c11",
   "metadata": {},
   "source": [
    "# Boundary condition\n",
    "## $T_0 = T(0, x) = 2 + sin(2\\pi x) + cos(4\\pi x)$"
   ]
  },
  {
   "cell_type": "code",
   "execution_count": 50,
   "id": "ebcf1234",
   "metadata": {},
   "outputs": [
    {
     "data": {
      "image/png": "[encoded data removed]",
      "text/plain": [
       "<Figure size 640x480 with 1 Axes>"
      ]
     },
     "metadata": {},
     "output_type": "display_data"
    }
   ],
   "source": [
    "check_current_situation(pinn_model)"
   ]
  },
  {
   "cell_type": "code",
   "execution_count": 42,
   "id": "d35e32c3",
   "metadata": {
    "scrolled": true
   },
   "outputs": [
    {
     "data": {
      "text/plain": [
       "tensor([[2.0062],\n",
       "        [2.0194],\n",
       "        [2.0054],\n",
       "        ...,\n",
       "        [2.0142],\n",
       "        [2.0238],\n",
       "        [2.0115]], grad_fn=<AddmmBackward0>)"
      ]
     },
     "execution_count": 42,
     "metadata": {},
     "output_type": "execute_result"
    }
   ],
   "source": [
    "pinn_model(points_for_pinn_model)"
   ]
  },
  {
   "cell_type": "code",
   "execution_count": 47,
   "id": "9834b0f3",
   "metadata": {
    "scrolled": false
   },
   "outputs": [
    {
     "data": {
      "text/plain": [
       "tensor(-0.0220, grad_fn=<MeanBackward0>)"
      ]
     },
     "execution_count": 47,
     "metadata": {},
     "output_type": "execute_result"
    }
   ],
   "source": [
    "torch.mean(thermal_conductivity_equation([time_physics, x_physics]).view(-1,1) - pinn_model(points_for_pinn_model))"
   ]
  },
  {
   "cell_type": "code",
   "execution_count": 46,
   "id": "c7f847cb",
   "metadata": {},
   "outputs": [
    {
     "data": {
      "text/plain": [
       "tensor([[2.1422],\n",
       "        [1.9769],\n",
       "        [2.2335],\n",
       "        ...,\n",
       "        [1.8930],\n",
       "        [2.6954],\n",
       "        [1.9622]], grad_fn=<ViewBackward0>)"
      ]
     },
     "execution_count": 46,
     "metadata": {},
     "output_type": "execute_result"
    }
   ],
   "source": [
    "thermal_conductivity_equation([time_physics, x_physics]).view(-1,1)\n"
   ]
  },
  {
   "cell_type": "code",
   "execution_count": 48,
   "id": "d5fa81f8",
   "metadata": {},
   "outputs": [
    {
     "data": {
      "text/plain": [
       "tensor([0., 0., 0.,  ..., 0., 0., 0.])"
      ]
     },
     "execution_count": 48,
     "metadata": {},
     "output_type": "execute_result"
    }
   ],
   "source": [
    "torch.zeros_like(x_physics)"
   ]
  },
  {
   "cell_type": "code",
   "execution_count": 49,
   "id": "edeaba8d",
   "metadata": {},
   "outputs": [
    {
     "data": {
      "text/plain": [
       "tensor([0.2961, 0.5166, 0.2517,  ..., 0.9463, 0.4930, 0.9744],\n",
       "       requires_grad=True)"
      ]
     },
     "execution_count": 49,
     "metadata": {},
     "output_type": "execute_result"
    }
   ],
   "source": [
    "x_physics"
   ]
  },
  {
   "cell_type": "code",
   "execution_count": 18,
   "id": "cb7a9966",
   "metadata": {},
   "outputs": [
    {
     "data": {
      "text/plain": [
       "tensor(0.4818, grad_fn=<AddBackward0>)"
      ]
     },
     "execution_count": 18,
     "metadata": {},
     "output_type": "execute_result"
    }
   ],
   "source": [
    "loss"
   ]
  },
  {
   "cell_type": "code",
   "execution_count": 40,
   "id": "16d7779b",
   "metadata": {},
   "outputs": [
    {
     "data": {
      "text/plain": [
       "tensor([[2.0321],\n",
       "        [2.5433],\n",
       "        [1.0441],\n",
       "        ...,\n",
       "        [0.6156],\n",
       "        [0.0254],\n",
       "        [2.3702]], grad_fn=<ViewBackward0>)"
      ]
     },
     "execution_count": 40,
     "metadata": {},
     "output_type": "execute_result"
    }
   ],
   "source": [
    "thermal_conductivity_equation([torch.zeros_like(x_physics), x_physics]).view(-1,1)"
   ]
  },
  {
   "cell_type": "code",
   "execution_count": 42,
   "id": "b8ebf57c",
   "metadata": {},
   "outputs": [
    {
     "data": {
      "text/plain": [
       "tensor([[ 0.2132],\n",
       "        [-0.1119],\n",
       "        [ 0.0549],\n",
       "        ...,\n",
       "        [ 0.1027],\n",
       "        [ 0.1308],\n",
       "        [ 0.1093]], grad_fn=<SubBackward0>)"
      ]
     },
     "execution_count": 42,
     "metadata": {},
     "output_type": "execute_result"
    }
   ],
   "source": [
    "pinn_model(boundary_condition_points) - thermal_conductivity_equation([torch.zeros_like(x_physics), x_physics]).view(-1,1)"
   ]
  },
  {
   "cell_type": "code",
   "execution_count": 12,
   "id": "78d31099",
   "metadata": {},
   "outputs": [
    {
     "name": "stdout",
     "output_type": "stream",
     "text": [
      "epoch: 14871\tloss: (0.17119884490966797, 0.02939465083181858, 0.09578163176774979, 0.04602256417274475)\t\n"
     ]
    }
   ],
   "source": [
    "print(f'epoch: {cur_epoch}\\tloss: {float(dist.detach().numpy()), float(loss1.detach().numpy()), float(loss2.detach().numpy()), float(loss3.detach().numpy())}\\t')\n"
   ]
  },
  {
   "cell_type": "code",
   "execution_count": null,
   "id": "9b627eaf",
   "metadata": {},
   "outputs": [],
   "source": []
  }
 ],
 "metadata": {
  "kernelspec": {
   "display_name": "Python 3 (ipykernel)",
   "language": "python",
   "name": "python3"
  },
  "language_info": {
   "codemirror_mode": {
    "name": "ipython",
    "version": 3
   },
   "file_extension": ".py",
   "mimetype": "text/x-python",
   "name": "python",
   "nbconvert_exporter": "python",
   "pygments_lexer": "ipython3",
   "version": "3.11.1"
  }
 },
 "nbformat": 4,
 "nbformat_minor": 5
}
