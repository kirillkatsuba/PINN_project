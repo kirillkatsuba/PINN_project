{
 "cells": [
  {
   "cell_type": "code",
   "execution_count": 1,
   "id": "53a145b6",
   "metadata": {},
   "outputs": [],
   "source": [
    "import numpy as np\n",
    "import matplotlib\n",
    "matplotlib.rcParams['image.cmap'] = 'jet'\n",
    "import matplotlib.pyplot as plt\n",
    "from mpl_toolkits.mplot3d import Axes3D\n",
    "import time as clock\n",
    "import torch\n",
    "import torch.nn as nn\n",
    "import torch.nn.functional as F\n",
    "from tqdm import trange\n",
    "from diffusion_equation import compute_solution\n",
    "from time import time\n",
    "from tqdm import trange\n",
    "import pandas as pd"
   ]
  },
  {
   "cell_type": "markdown",
   "id": "4e3ecca3",
   "metadata": {},
   "source": [
    "# Getting data from simulator"
   ]
  },
  {
   "cell_type": "code",
   "execution_count": 2,
   "id": "5b38cde0",
   "metadata": {},
   "outputs": [],
   "source": [
    "# configuration of simulator\n",
    "# and parametrs of reservouir\n",
    "perm = np.load('perm.npy')\n",
    "nx0, nx1 = perm.shape\n",
    "nx2 = 1\n",
    "perm = np.reshape(perm, (nx0, nx1, nx2))\n",
    "poro = 0.1 + np.zeros((nx0, nx1, nx2))\n",
    "\n",
    "dx0 = 1.0 / nx0\n",
    "dx1 = 1.0 / nx1\n",
    "dx2 = 1.0 / nx2\n",
    "\n",
    "pwat = 2.0\n",
    "poil = 4.0\n",
    "vr = 0.3\n",
    "kwat = 1.0\n",
    "koil = 0.3\n",
    "\n",
    "pmin = 0.0\n",
    "pmax = 1.0\n",
    "\n",
    "niter = 5000\n",
    "t_final = 3.0\n",
    "dt = t_final / niter"
   ]
  },
  {
   "cell_type": "code",
   "execution_count": 3,
   "id": "8846e8ee",
   "metadata": {},
   "outputs": [
    {
     "data": {
      "text/plain": [
       "(64, 64)"
      ]
     },
     "execution_count": 3,
     "metadata": {},
     "output_type": "execute_result"
    }
   ],
   "source": [
    "nx0, nx1"
   ]
  },
  {
   "cell_type": "code",
   "execution_count": 39,
   "id": "9274286a",
   "metadata": {},
   "outputs": [
    {
     "name": "stderr",
     "output_type": "stream",
     "text": [
      "100%|████████████████████████████████████████████████████████████████████████████████████████████████████████████| 5000/5000 [00:00<00:00, 80636.12it/s]\n"
     ]
    }
   ],
   "source": [
    "# pres, swat, soil = compute_solution(perm, poro,\n",
    "#                                     dx0, dx1, dx2, t_final, niter,\n",
    "#                                     pwat, kwat, poil, koil, vr,\n",
    "#                                     pmin=0.0, pmax=1.0)\n",
    "\n",
    "# x_list = np.random.randint(size=niter, low=0, high=64)\n",
    "# y_list = np.random.randint(size=niter, low=0, high=64)\n",
    "# dt_n = np.random.randint(size=niter, low=0, high=niter)\n",
    "\n",
    "# # 0 - pres, 1 - swat, 2 - soil\n",
    "# sim_data = np.zeros((niter, 3))\n",
    "\n",
    "# # simulation\n",
    "# for i in trange(niter):\n",
    "#     sim_data[i, 0] = pres[x_list[i], y_list[i], 0, dt_n[i]]\n",
    "#     sim_data[i, 1] = swat[x_list[i], y_list[i], 0, dt_n[i]]\n",
    "#     sim_data[i, 2] = soil[x_list[i], y_list[i], 0, dt_n[i]]\n",
    "\n",
    "# #   saving data in file\n",
    "# N = niter\n",
    "# np.savetxt(f\"data_5k_200225/sim_{N}.txt\", sim_data)\n",
    "# np.savetxt(f\"data_5k_200225/x_{N}.txt\", x_list)\n",
    "# np.savetxt(f\"data_5k_200225/y_{N}.txt\", y_list)\n",
    "# np.savetxt(f\"data_5k_200225/t_{N}.txt\", dt_n)"
   ]
  },
  {
   "cell_type": "code",
   "execution_count": 4,
   "id": "64ebe9dd",
   "metadata": {},
   "outputs": [],
   "source": [
    "# configuration of simulator\n",
    "# and parametrs of reservouir\n",
    "pwat = 2.0\n",
    "poil = 4.0\n",
    "vr = 0.3\n",
    "kwat = 1.0\n",
    "koil = 0.3\n",
    "\n",
    "\n",
    "pmin = 0.0\n",
    "pmax = 1.0\n",
    "nx0 = 50\n",
    "nx1 = 30\n",
    "nx2 = 1\n",
    "dx0 = 1.0 / nx0\n",
    "dx1 = 1.0 / nx1\n",
    "dx2 = 1.0 / nx2\n",
    "dt = 3.0 / 2000\n",
    "niter = 2000\n",
    "\n",
    "poro = 0.1 + np.zeros((nx0, nx1, nx2))\n",
    "perm = np.ones((nx0, nx1, nx2))"
   ]
  },
  {
   "cell_type": "markdown",
   "id": "4d592b41",
   "metadata": {},
   "source": [
    "# Read from file"
   ]
  },
  {
   "cell_type": "code",
   "execution_count": 5,
   "id": "623e8a69",
   "metadata": {},
   "outputs": [
    {
     "data": {
      "text/plain": [
       "array([2051, 3274, 4367, ..., 4454, 3092, 3319])"
      ]
     },
     "execution_count": 5,
     "metadata": {},
     "output_type": "execute_result"
    }
   ],
   "source": [
    "np.random.randint(0, 5000, 2000)"
   ]
  },
  {
   "cell_type": "code",
   "execution_count": 91,
   "id": "b76be333",
   "metadata": {},
   "outputs": [
    {
     "data": {
      "text/plain": [
       "(array([[ 2.6175374e-01, -4.3981121e-35,  1.0000000e+00],\n",
       "        [ 4.5423537e-01, -4.2923176e-35,  1.0000000e+00],\n",
       "        [ 8.5310638e-01,  2.2475463e-03,  9.9775243e-01],\n",
       "        ...,\n",
       "        [ 7.4929285e-01,  1.9534953e-34,  1.0000000e+00],\n",
       "        [ 9.6112692e-01,  3.1610554e-01,  6.8389446e-01],\n",
       "        [ 2.4197875e-01,  2.3195626e-34,  1.0000000e+00]], dtype=float32),\n",
       " array([40., 36., 13., ..., 25.,  2., 43.], dtype=float32),\n",
       " array([51., 34., 30., ..., 30.,  0., 42.], dtype=float32),\n",
       " array([2146.,  266., 2895., ...,  297., 4164.,  926.], dtype=float32))"
      ]
     },
     "execution_count": 91,
     "metadata": {},
     "output_type": "execute_result"
    }
   ],
   "source": [
    "# sim_data: pres, swat, soil\n",
    "\n",
    "# # 2000\n",
    "# sim_data = np.loadtxt(\"2000_data/sim_2k.txt\", dtype=np.float32)\n",
    "# x_list = np.loadtxt(\"2000_data/x_2k.txt\", dtype=np.float32)\n",
    "# y_list = np.loadtxt(\"2000_data/y_2k.txt\", dtype=np.float32)\n",
    "# t_list = np.loadtxt(\"2000_data/t_2k.txt\", dtype=np.float32)\n",
    "# sim_data, x_list, y_list, t_list\n",
    "n_points = 500\n",
    "sim_r = np.random.randint(0, 5000, n_points)\n",
    "\n",
    "# 5000\n",
    "sim_data = np.loadtxt(\"data_5k_200225/sim_5000.txt\", dtype=np.float32)[sim_r]\n",
    "x_list = np.loadtxt(\"data_5k_200225/x_5000.txt\", dtype=np.float32)[sim_r]\n",
    "y_list = np.loadtxt(\"data_5k_200225/y_5000.txt\", dtype=np.float32)[sim_r]\n",
    "t_list = np.loadtxt(\"data_5k_200225/t_5000.txt\", dtype=np.float32)[sim_r]\n",
    "sim_data, x_list, y_list, t_list"
   ]
  },
  {
   "cell_type": "code",
   "execution_count": 92,
   "id": "bc59e55f",
   "metadata": {},
   "outputs": [
    {
     "data": {
      "text/plain": [
       "(5000, 3)"
      ]
     },
     "execution_count": 92,
     "metadata": {},
     "output_type": "execute_result"
    }
   ],
   "source": [
    "sim_data.shape"
   ]
  },
  {
   "cell_type": "markdown",
   "id": "8daa420d",
   "metadata": {},
   "source": [
    "# Convert to torch tensor"
   ]
  },
  {
   "cell_type": "code",
   "execution_count": 93,
   "id": "5a17a406",
   "metadata": {},
   "outputs": [
    {
     "data": {
      "text/plain": [
       "0.0006"
      ]
     },
     "execution_count": 93,
     "metadata": {},
     "output_type": "execute_result"
    }
   ],
   "source": [
    "3 / 5000"
   ]
  },
  {
   "cell_type": "code",
   "execution_count": 94,
   "id": "8084df71",
   "metadata": {},
   "outputs": [
    {
     "data": {
      "text/plain": [
       "(tensor([[1.2876, 0.6250, 0.7969],\n",
       "         [0.1596, 0.5625, 0.5312],\n",
       "         [1.7370, 0.2031, 0.4688],\n",
       "         ...,\n",
       "         [0.1782, 0.3906, 0.4688],\n",
       "         [2.4984, 0.0312, 0.0000],\n",
       "         [0.5556, 0.6719, 0.6562]], grad_fn=<StackBackward0>),\n",
       " tensor([[ 2.6175e-01, -4.3981e-35,  1.0000e+00],\n",
       "         [ 4.5424e-01, -4.2923e-35,  1.0000e+00],\n",
       "         [ 8.5311e-01,  2.2475e-03,  9.9775e-01],\n",
       "         ...,\n",
       "         [ 7.4929e-01,  1.9535e-34,  1.0000e+00],\n",
       "         [ 9.6113e-01,  3.1611e-01,  6.8389e-01],\n",
       "         [ 2.4198e-01,  2.3196e-34,  1.0000e+00]], requires_grad=True))"
      ]
     },
     "execution_count": 94,
     "metadata": {},
     "output_type": "execute_result"
    }
   ],
   "source": [
    "simulation_data = torch.tensor(sim_data).requires_grad_(True)\n",
    "\n",
    "x = torch.tensor(x_list * dx0).requires_grad_(True)\n",
    "y = torch.tensor(y_list * dx1).requires_grad_(True)\n",
    "t = torch.tensor(t_list * dt).requires_grad_(True)\n",
    "\n",
    "points = torch.stack((t, x, y), -1).requires_grad_(True)\n",
    "points, simulation_data"
   ]
  },
  {
   "cell_type": "markdown",
   "id": "992c4fcb",
   "metadata": {},
   "source": [
    "# Boundary points"
   ]
  },
  {
   "cell_type": "code",
   "execution_count": 71,
   "id": "bd3069c2",
   "metadata": {},
   "outputs": [],
   "source": [
    "pres0_x1_points = torch.stack((t, torch.zeros_like(x), y), -1).requires_grad_(True)\n",
    "pres1_x1_points = torch.stack((t, torch.ones_like(x), y), -1).requires_grad_(True)\n",
    "swat0_x1_points = torch.stack((torch.zeros_like(t), x, y), -1).requires_grad_(True)\n",
    "soil0_x1_points = torch.stack((torch.zeros_like(t), x, y), -1).requires_grad_(True)\n",
    "u0_x2_points = torch.stack((t, x, torch.zeros_like(y)), -1).requires_grad_(True)\n",
    "u1_x2_points = torch.stack((t, x, torch.ones_like(y)), -1).requires_grad_(True)"
   ]
  },
  {
   "cell_type": "markdown",
   "id": "3fda8443",
   "metadata": {},
   "source": [
    "# Model configuration"
   ]
  },
  {
   "cell_type": "code",
   "execution_count": 72,
   "id": "c74f1570",
   "metadata": {},
   "outputs": [],
   "source": [
    "#define the class PINN\n",
    "class PINN(nn.Module):\n",
    "    def __init__(self, input_layer = 3, hidden_layer = 32, number_layers = 8, output_layer = 7):\n",
    "        super().__init__()\n",
    "        \n",
    "        activation2 = nn.Sigmoid\n",
    "        activation1 = nn.ReLU\n",
    "        \n",
    "        self.fcs = nn.Sequential(*\n",
    "            [\n",
    "                nn.Linear(input_layer, hidden_layer),\n",
    "                activation1()\n",
    "            ]\n",
    "        )\n",
    "        \n",
    "        self.fch = nn.Sequential(*\n",
    "            [\n",
    "                nn.Sequential(*\n",
    "                    [\n",
    "                        nn.Linear(hidden_layer, hidden_layer),\n",
    "                        activation1()\n",
    "                    ]\n",
    "                ) for _ in range(number_layers - 1)\n",
    "            ]\n",
    "        )\n",
    "        \n",
    "        self.fce = nn.Linear(hidden_layer, output_layer)\n",
    "        \n",
    "        \n",
    "    def forward(self, x):\n",
    "        \"\"\"\n",
    "        function for updating neural network\n",
    "        \n",
    "        return:\n",
    "            x - vector (pres\n",
    "                        soil\n",
    "                        swat\n",
    "                        uoil_x,  \n",
    "                        uoil_y,\n",
    "                        uwat_x,  \n",
    "                        uwat_y)\n",
    "        \"\"\"\n",
    "        \n",
    "        x = self.fcs(x)\n",
    "        x = self.fch(x)\n",
    "        x = self.fce(x)\n",
    "        \n",
    "        return x"
   ]
  },
  {
   "cell_type": "markdown",
   "id": "4524917b",
   "metadata": {},
   "source": [
    "\n",
    "\n",
    "# Differentiail equations, Loss function difinition\n",
    "\n",
    "$$k_{water} = 1, k_{oil} = 0.3$$\n",
    "$$x = (x_1, x_2)$$\n",
    "$$ \\phi(x) = 0.1 (poro)\\\\\n",
    "k(x) = 1 (perm)$$\n",
    "\n",
    "#### System of equation:\n",
    "\n",
    "\\begin{equation}\n",
    "    \\begin{cases}\n",
    "        r_1(t, x) = 0.1 \\frac{\\partial s_{\\text{water}}(t, x)}{\\partial t} + div(u_{water}) = 0 \\\\\n",
    "        r_2(t, x) = 0.1 \\frac{\\partial s_{\\text{oil}}(t, x)}{\\partial t} + div(u_{oil}) = 0 \\\\\n",
    "        r_{3,x_1}(t, x) = u_{\\text{water},x_1} + \\frac{\\partial P(t, x)}{\\partial x_1} = 0 \\\\\n",
    "        r_{3,x_2}(t, x) = u_{\\text{water},x_2} + \\frac{\\partial P(t, x)}{\\partial x_2} = 0 \\\\\n",
    "        r_{4, x_1}(t, x) = u_{\\text{oil},x_1} + 0.1 \\frac{\\partial P(t, x)}{\\partial x_1} = 0 \\\\\n",
    "        r_{4, x_2}(t, x) = u_{\\text{oil},x_2} + 0.1 \\frac{\\partial P(t, x)}{\\partial x_2} = 0 \\\\\n",
    "        r_5(t, x) = s_{\\text{water}}(t, x) + s_{\\text{oil}}(t, x) - 1 = 0 \\\\\n",
    "    \\end{cases}\n",
    "\\end{equation}\n",
    "\n",
    "#### Boundary condition\n",
    "\\begin{equation}\n",
    "    \\begin{cases}\n",
    "        P(t, (0, x_2)) = (1, 1) \\\\\n",
    "        P(t, (1, x_2)) = (0, 0) \\\\\n",
    "        s_{\\text{water}}(0, x) = (0, 0) \\\\\n",
    "        s_{\\text{oil}}(0, x) = (1, 1) \\\\\n",
    "        u_{water/ oil}^{x_2}(t, x)\\big|_{x_2=0} = u_{water/ oil}^{x_2}(t, x)\\big|_{x_2=1} = 0\n",
    "    \\end{cases}\n",
    "\\end{equation}\n",
    "\n",
    "\n",
    "#### Loss function:\n",
    "\n",
    "\\begin{equation}\n",
    "    \\label{eq:loss_term_0}\n",
    "    \\mathcal{R}_0(t, x) = r_1(t, x)^2 + r_2(t, x)^2 + r_3(t, x)^2 + r_4(t, x)^2 + r_5(t, x)^2\n",
    "\\end{equation}\n",
    "\n",
    "\n",
    "\\begin{equation}\n",
    "    \\label{eq:loss_term_1}\n",
    "    \\mathcal{R}_1(t, x) = \\big(p(t, 0) - 1.0\\big)^2 + \\big(p(t, 1) - 0.0 \\big)^2 + \\big( s_{\\text{oil}}(0, x) - 1.0 \\big)^2 + \\big( s_{\\text{water}}(0, x) - 0.0 \\big)^2\n",
    "\\end{equation}\n",
    "\n",
    "\\begin{split}\n",
    "        \\mathcal{R}_2(t, x) = \\big( p_{\\text{neural network}}(t, x) - p_{\\text{simulation}}(t, x)\\big)^2 + \\\\ + \\big( s_{\\text{water, neural network}}(t, x) - s_{\\text{water, simulation}}(t, x)\\big)^2 + \\\\ + \\big( s_{\\text{oil, neural network}}(t, x) - s_{\\text{oil, simulation}}(t, x)\\big)^2\n",
    "\\end{split}\n",
    "\n",
    "#### Resultant function:\n",
    "\n",
    "\\begin{equation}\n",
    "    \\label{eq:loss_final}\n",
    "    \\mathcal{L} = w_0 \\frac{1}{N} \\mathcal{R}_0(t_i, x_i) + w_1 \\frac{1}{N} \\mathcal{R}_1(t_i, x_i) + w_2 \\frac{1}{N} \\mathcal{R}_2(t_i, x_i)\n",
    "\\end{equation}"
   ]
  },
  {
   "cell_type": "markdown",
   "id": "38ba81ca",
   "metadata": {},
   "source": [
    "# Model training"
   ]
  },
  {
   "cell_type": "code",
   "execution_count": 73,
   "id": "c32ebcec",
   "metadata": {},
   "outputs": [],
   "source": [
    "model = PINN()\n",
    "optimizer = torch.optim.Adam(model.parameters(), lr=0.003)\n",
    "\n",
    "loss0_hist = []\n",
    "loss1_hist = []\n",
    "loss2_hist = []\n",
    "\n",
    "w0_hist = []\n",
    "w1_hist = []\n",
    "w2_hist = []"
   ]
  },
  {
   "cell_type": "code",
   "execution_count": 75,
   "id": "e03fae6c",
   "metadata": {},
   "outputs": [
    {
     "name": "stderr",
     "output_type": "stream",
     "text": [
      "  0%|▏                                                                                                               | 17/10000 [00:00<02:01, 81.85it/s]"
     ]
    },
    {
     "name": "stdout",
     "output_type": "stream",
     "text": [
      "epoch: 0\tloss: (0.009325936436653137, 0.0009381425334140658, 0.00019144974066875875, 0.00819634459912777)\t\n"
     ]
    },
    {
     "name": "stderr",
     "output_type": "stream",
     "text": [
      "  3%|███                                                                                                           | 275/10000 [00:02<01:23, 116.02it/s]"
     ]
    },
    {
     "name": "stdout",
     "output_type": "stream",
     "text": [
      "epoch: 250\tloss: (0.0258202962577343, 0.008697637356817722, 0.0023135498631745577, 0.014809108339250088)\t\n"
     ]
    },
    {
     "name": "stderr",
     "output_type": "stream",
     "text": [
      "  5%|█████▋                                                                                                        | 521/10000 [00:04<01:28, 107.06it/s]"
     ]
    },
    {
     "name": "stdout",
     "output_type": "stream",
     "text": [
      "epoch: 500\tloss: (0.01410608645528555, 0.00511191226541996, 0.0019297695253044367, 0.007064404897391796)\t\n"
     ]
    },
    {
     "name": "stderr",
     "output_type": "stream",
     "text": [
      "  8%|████████▌                                                                                                      | 767/10000 [00:07<01:32, 99.55it/s]"
     ]
    },
    {
     "name": "stdout",
     "output_type": "stream",
     "text": [
      "epoch: 750\tloss: (0.009980877861380577, 0.003573690541088581, 0.0014488606248050928, 0.004958326928317547)\t\n"
     ]
    },
    {
     "name": "stderr",
     "output_type": "stream",
     "text": [
      " 10%|███████████                                                                                                  | 1018/10000 [00:09<01:24, 105.70it/s]"
     ]
    },
    {
     "name": "stdout",
     "output_type": "stream",
     "text": [
      "epoch: 1000\tloss: (0.008924521505832672, 0.002550496021285653, 0.0015490957302972674, 0.004824929405003786)\t\n"
     ]
    },
    {
     "name": "stderr",
     "output_type": "stream",
     "text": [
      " 13%|█████████████▊                                                                                               | 1270/10000 [00:11<01:22, 106.19it/s]"
     ]
    },
    {
     "name": "stdout",
     "output_type": "stream",
     "text": [
      "epoch: 1250\tloss: (0.008487642742693424, 0.0024554042611271143, 0.0012734578922390938, 0.0047587803564965725)\t\n"
     ]
    },
    {
     "name": "stderr",
     "output_type": "stream",
     "text": [
      " 15%|████████████████▌                                                                                            | 1516/10000 [00:14<01:20, 105.38it/s]"
     ]
    },
    {
     "name": "stdout",
     "output_type": "stream",
     "text": [
      "epoch: 1500\tloss: (0.012822050601243973, 0.006824578158557415, 0.001076102489605546, 0.004921369720250368)\t\n"
     ]
    },
    {
     "name": "stderr",
     "output_type": "stream",
     "text": [
      " 18%|███████████████████▍                                                                                          | 1768/10000 [00:16<01:33, 88.29it/s]"
     ]
    },
    {
     "name": "stdout",
     "output_type": "stream",
     "text": [
      "epoch: 1750\tloss: (0.007852592505514622, 0.0017074861098080873, 0.001520215068012476, 0.004624891094863415)\t\n"
     ]
    },
    {
     "name": "stderr",
     "output_type": "stream",
     "text": [
      " 20%|█████████████████████▉                                                                                       | 2015/10000 [00:19<01:18, 101.66it/s]"
     ]
    },
    {
     "name": "stdout",
     "output_type": "stream",
     "text": [
      "epoch: 2000\tloss: (0.00727145466953516, 0.00139703752938658, 0.0013816268183290958, 0.004492790438234806)\t\n"
     ]
    },
    {
     "name": "stderr",
     "output_type": "stream",
     "text": [
      " 23%|████████████████████████▉                                                                                     | 2265/10000 [00:21<01:18, 98.99it/s]"
     ]
    },
    {
     "name": "stdout",
     "output_type": "stream",
     "text": [
      "epoch: 2250\tloss: (0.0070643918588757515, 0.001277603441849351, 0.0013032065471634269, 0.0044835819862782955)\t\n"
     ]
    },
    {
     "name": "stderr",
     "output_type": "stream",
     "text": [
      " 25%|███████████████████████████▎                                                                                 | 2510/10000 [00:24<01:10, 106.82it/s]"
     ]
    },
    {
     "name": "stdout",
     "output_type": "stream",
     "text": [
      "epoch: 2500\tloss: (0.008949235081672668, 0.00303474860265851, 0.0013158742804080248, 0.004598612431436777)\t\n"
     ]
    },
    {
     "name": "stderr",
     "output_type": "stream",
     "text": [
      " 28%|██████████████████████████████▍                                                                               | 2769/10000 [00:26<01:13, 97.92it/s]"
     ]
    },
    {
     "name": "stdout",
     "output_type": "stream",
     "text": [
      "epoch: 2750\tloss: (0.007208367809653282, 0.0014912027399986982, 0.001196283265016973, 0.004520881921052933)\t\n"
     ]
    },
    {
     "name": "stderr",
     "output_type": "stream",
     "text": [
      " 30%|█████████████████████████████████▏                                                                            | 3014/10000 [00:29<01:11, 98.27it/s]"
     ]
    },
    {
     "name": "stdout",
     "output_type": "stream",
     "text": [
      "epoch: 3000\tloss: (0.00755243469029665, 0.0013877711025997996, 0.001937644905410707, 0.0042270184494555)\t\n"
     ]
    },
    {
     "name": "stderr",
     "output_type": "stream",
     "text": [
      " 33%|███████████████████████████████████▌                                                                         | 3266/10000 [00:31<01:00, 111.38it/s]"
     ]
    },
    {
     "name": "stdout",
     "output_type": "stream",
     "text": [
      "epoch: 3250\tloss: (0.007651730440557003, 0.0017083892598748207, 0.0014696018770337105, 0.004473739303648472)\t\n"
     ]
    },
    {
     "name": "stderr",
     "output_type": "stream",
     "text": [
      " 35%|██████████████████████████████████████▋                                                                       | 3514/10000 [00:33<01:06, 96.99it/s]"
     ]
    },
    {
     "name": "stdout",
     "output_type": "stream",
     "text": [
      "epoch: 3500\tloss: (0.007819733582437038, 0.0019110293360427022, 0.001477034529671073, 0.0044316696003079414)\t\n"
     ]
    },
    {
     "name": "stderr",
     "output_type": "stream",
     "text": [
      " 38%|█████████████████████████████████████████▍                                                                    | 3767/10000 [00:36<01:06, 93.15it/s]"
     ]
    },
    {
     "name": "stdout",
     "output_type": "stream",
     "text": [
      "epoch: 3750\tloss: (0.0075811706483364105, 0.001965506235137582, 0.0005666101933456957, 0.00504905404523015)\t\n"
     ]
    },
    {
     "name": "stderr",
     "output_type": "stream",
     "text": [
      " 40%|███████████████████████████████████████████▋                                                                 | 4012/10000 [00:38<00:57, 103.78it/s]"
     ]
    },
    {
     "name": "stdout",
     "output_type": "stream",
     "text": [
      "epoch: 4000\tloss: (0.007326207123696804, 0.0014970783377066255, 0.0014826185069978237, 0.004346510395407677)\t\n"
     ]
    },
    {
     "name": "stderr",
     "output_type": "stream",
     "text": [
      " 43%|██████████████████████████████████████████████▍                                                              | 4266/10000 [00:41<00:55, 103.71it/s]"
     ]
    },
    {
     "name": "stdout",
     "output_type": "stream",
     "text": [
      "epoch: 4250\tloss: (0.00725830253213644, 0.0014470681780949235, 0.001508317538537085, 0.004302916582673788)\t\n"
     ]
    },
    {
     "name": "stderr",
     "output_type": "stream",
     "text": [
      " 45%|█████████████████████████████████████████████████▏                                                           | 4517/10000 [00:43<00:54, 101.51it/s]"
     ]
    },
    {
     "name": "stdout",
     "output_type": "stream",
     "text": [
      "epoch: 4500\tloss: (0.007295029703527689, 0.0015908461064100266, 0.0011601479491218925, 0.004544035531580448)\t\n"
     ]
    },
    {
     "name": "stderr",
     "output_type": "stream",
     "text": [
      " 48%|███████████████████████████████████████████████████▉                                                         | 4769/10000 [00:46<00:48, 107.27it/s]"
     ]
    },
    {
     "name": "stdout",
     "output_type": "stream",
     "text": [
      "epoch: 4750\tloss: (0.008427766151726246, 0.0022660670801997185, 0.0015676507027819753, 0.004594048485159874)\t\n"
     ]
    },
    {
     "name": "stderr",
     "output_type": "stream",
     "text": [
      " 50%|██████████████████████████████████████████████████████▋                                                      | 5013/10000 [00:48<00:47, 105.21it/s]"
     ]
    },
    {
     "name": "stdout",
     "output_type": "stream",
     "text": [
      "epoch: 5000\tloss: (0.00845918245613575, 0.0024635414592921734, 0.0014551522908732295, 0.004540489055216312)\t\n"
     ]
    },
    {
     "name": "stderr",
     "output_type": "stream",
     "text": [
      " 53%|█████████████████████████████████████████████████████████▎                                                   | 5263/10000 [00:51<00:46, 101.88it/s]"
     ]
    },
    {
     "name": "stdout",
     "output_type": "stream",
     "text": [
      "epoch: 5250\tloss: (0.007950829342007637, 0.0018827738240361214, 0.001761136227287352, 0.004306918941438198)\t\n"
     ]
    },
    {
     "name": "stderr",
     "output_type": "stream",
     "text": [
      " 55%|████████████████████████████████████████████████████████████▋                                                 | 5514/10000 [00:53<00:45, 98.74it/s]"
     ]
    },
    {
     "name": "stdout",
     "output_type": "stream",
     "text": [
      "epoch: 5500\tloss: (0.007317558396607637, 0.0015513746766373515, 0.001316821901127696, 0.004449361935257912)\t\n"
     ]
    },
    {
     "name": "stderr",
     "output_type": "stream",
     "text": [
      " 58%|██████████████████████████████████████████████████████████████▉                                              | 5775/10000 [00:56<00:37, 112.34it/s]"
     ]
    },
    {
     "name": "stdout",
     "output_type": "stream",
     "text": [
      "epoch: 5750\tloss: (0.007678403053432703, 0.0015464568277820945, 0.001561206066980958, 0.004570740275084972)\t\n"
     ]
    },
    {
     "name": "stderr",
     "output_type": "stream",
     "text": [
      " 60%|█████████████████████████████████████████████████████████████████▌                                           | 6019/10000 [00:58<00:38, 103.52it/s]"
     ]
    },
    {
     "name": "stdout",
     "output_type": "stream",
     "text": [
      "epoch: 6000\tloss: (0.006980381440371275, 0.0011812194716185331, 0.0014664840418845415, 0.0043326779268682)\t\n"
     ]
    },
    {
     "name": "stderr",
     "output_type": "stream",
     "text": [
      " 63%|████████████████████████████████████████████████████████████████████▎                                        | 6270/10000 [01:00<00:31, 119.29it/s]"
     ]
    },
    {
     "name": "stdout",
     "output_type": "stream",
     "text": [
      "epoch: 6250\tloss: (0.007293778005987406, 0.0015267400303855538, 0.001412311801686883, 0.004354726057499647)\t\n"
     ]
    },
    {
     "name": "stderr",
     "output_type": "stream",
     "text": [
      " 65%|███████████████████████████████████████████████████████████████████████                                      | 6518/10000 [01:03<00:31, 109.63it/s]"
     ]
    },
    {
     "name": "stdout",
     "output_type": "stream",
     "text": [
      "epoch: 6500\tloss: (0.007665036246180534, 0.0018873332301154733, 0.0012777065858244896, 0.004499996546655893)\t\n"
     ]
    },
    {
     "name": "stderr",
     "output_type": "stream",
     "text": [
      " 68%|█████████████████████████████████████████████████████████████████████████▊                                   | 6769/10000 [01:05<00:30, 105.73it/s]"
     ]
    },
    {
     "name": "stdout",
     "output_type": "stream",
     "text": [
      "epoch: 6750\tloss: (0.007285275962203741, 0.0014609586214646697, 0.0014482955448329449, 0.004376021679490805)\t\n"
     ]
    },
    {
     "name": "stderr",
     "output_type": "stream",
     "text": [
      " 70%|████████████████████████████████████████████████████████████████████████████▌                                | 7024/10000 [01:07<00:26, 113.34it/s]"
     ]
    },
    {
     "name": "stdout",
     "output_type": "stream",
     "text": [
      "epoch: 7000\tloss: (0.011433586478233337, 0.002890460891649127, 0.0015536157879978418, 0.006989509332925081)\t\n"
     ]
    },
    {
     "name": "stderr",
     "output_type": "stream",
     "text": [
      " 73%|███████████████████████████████████████████████████████████████████████████████▎                             | 7272/10000 [01:09<00:25, 108.73it/s]"
     ]
    },
    {
     "name": "stdout",
     "output_type": "stream",
     "text": [
      "epoch: 7250\tloss: (0.007181862369179726, 0.0013993799220770597, 0.0014791871653869748, 0.004303295165300369)\t\n"
     ]
    },
    {
     "name": "stderr",
     "output_type": "stream",
     "text": [
      " 75%|█████████████████████████████████████████████████████████████████████████████████▉                           | 7521/10000 [01:12<00:24, 102.55it/s]"
     ]
    },
    {
     "name": "stdout",
     "output_type": "stream",
     "text": [
      "epoch: 7500\tloss: (0.008165309205651283, 0.00177240080665797, 0.0022480825427919626, 0.00414482643827796)\t\n"
     ]
    },
    {
     "name": "stderr",
     "output_type": "stream",
     "text": [
      " 78%|█████████████████████████████████████████████████████████████████████████████████████▍                        | 7765/10000 [01:14<00:22, 97.69it/s]"
     ]
    },
    {
     "name": "stdout",
     "output_type": "stream",
     "text": [
      "epoch: 7750\tloss: (0.0073633515276014805, 0.001341967610642314, 0.0018007911276072264, 0.00422059278935194)\t\n"
     ]
    },
    {
     "name": "stderr",
     "output_type": "stream",
     "text": [
      " 80%|███████████████████████████████████████████████████████████████████████████████████████▍                     | 8017/10000 [01:17<00:19, 102.14it/s]"
     ]
    },
    {
     "name": "stdout",
     "output_type": "stream",
     "text": [
      "epoch: 8000\tloss: (0.007519269362092018, 0.0014231462264433503, 0.0018872894579544663, 0.004208833444863558)\t\n"
     ]
    },
    {
     "name": "stderr",
     "output_type": "stream",
     "text": [
      " 83%|██████████████████████████████████████████████████████████████████████████████████████████                   | 8263/10000 [01:19<00:16, 106.93it/s]"
     ]
    },
    {
     "name": "stdout",
     "output_type": "stream",
     "text": [
      "epoch: 8250\tloss: (0.007092646788805723, 0.0013844765489920974, 0.0014112751232460141, 0.004296895116567612)\t\n"
     ]
    },
    {
     "name": "stderr",
     "output_type": "stream",
     "text": [
      " 85%|█████████████████████████████████████████████████████████████████████████████████████████████▋                | 8517/10000 [01:21<00:14, 99.74it/s]"
     ]
    },
    {
     "name": "stdout",
     "output_type": "stream",
     "text": [
      "epoch: 8500\tloss: (0.007207303773611784, 0.001251064706593752, 0.00177336810156703, 0.004182870965451002)\t\n"
     ]
    },
    {
     "name": "stderr",
     "output_type": "stream",
     "text": [
      " 88%|███████████████████████████████████████████████████████████████████████████████████████████████▍             | 8760/10000 [01:24<00:12, 103.16it/s]"
     ]
    },
    {
     "name": "stdout",
     "output_type": "stream",
     "text": [
      "epoch: 8750\tloss: (0.01607368513941765, 0.0068292743526399136, 0.0012832395732402802, 0.007961171679198742)\t\n"
     ]
    },
    {
     "name": "stderr",
     "output_type": "stream",
     "text": [
      " 90%|██████████████████████████████████████████████████████████████████████████████████████████████████▎          | 9015/10000 [01:26<00:09, 107.25it/s]"
     ]
    },
    {
     "name": "stdout",
     "output_type": "stream",
     "text": [
      "epoch: 9000\tloss: (0.0074398089200258255, 0.0014648783253505826, 0.0016670720651745796, 0.004307858645915985)\t\n"
     ]
    },
    {
     "name": "stderr",
     "output_type": "stream",
     "text": [
      " 93%|█████████████████████████████████████████████████████████████████████████████████████████████████████        | 9268/10000 [01:29<00:07, 100.23it/s]"
     ]
    },
    {
     "name": "stdout",
     "output_type": "stream",
     "text": [
      "epoch: 9250\tloss: (0.00819757953286171, 0.0025414673145860434, 0.0013565514236688614, 0.004299560561776161)\t\n"
     ]
    },
    {
     "name": "stderr",
     "output_type": "stream",
     "text": [
      " 95%|████████████████████████████████████████████████████████████████████████████████████████████████████████▋     | 9516/10000 [01:31<00:05, 94.37it/s]"
     ]
    },
    {
     "name": "stdout",
     "output_type": "stream",
     "text": [
      "epoch: 9500\tloss: (0.0075690858066082, 0.001854496542364359, 0.0012231089640408754, 0.004491480533033609)\t\n"
     ]
    },
    {
     "name": "stderr",
     "output_type": "stream",
     "text": [
      " 98%|███████████████████████████████████████████████████████████████████████████████████████████████████████████▍  | 9767/10000 [01:34<00:02, 90.53it/s]"
     ]
    },
    {
     "name": "stdout",
     "output_type": "stream",
     "text": [
      "epoch: 9750\tloss: (0.007136045955121517, 0.0014016216155141592, 0.0014037718065083027, 0.004330652300268412)\t\n"
     ]
    },
    {
     "name": "stderr",
     "output_type": "stream",
     "text": [
      "100%|████████████████████████████████████████████████████████████████████████████████████████████████████████████| 10000/10000 [01:36<00:00, 103.29it/s]\n"
     ]
    }
   ],
   "source": [
    "# neural network returns:\n",
    "# x - vector (pres\n",
    "#             soil\n",
    "#             swat\n",
    "#             uoil_x,  \n",
    "#             uoil_y,\n",
    "#             uwat_x,  \n",
    "#             uwat_y)\n",
    "\n",
    "# change learning rate if necessary\n",
    "# optimizer.param_groups[0]['lr'] = 0.0005\n",
    "perm_vec = perm[list(x_list.astype(int)), list(y_list.astype(int)), -1]\n",
    "epochs = 10_000\n",
    "for cur_epoch in trange(epochs):\n",
    "    optimizer.zero_grad()\n",
    "    \n",
    "    model_res = model(points).requires_grad_(True)\n",
    "    # presseru bound\n",
    "    press0 = model(pres0_x1_points)[:, 0].requires_grad_(True)\n",
    "    press1 = model(pres1_x1_points)[:, 0].requires_grad_(True)\n",
    "    \n",
    "    # struation boundary\n",
    "    soil0 = model(soil0_x1_points)[:, 1].requires_grad_(True)\n",
    "    swat0 = model(swat0_x1_points)[:, 2].requires_grad_(True)\n",
    "    \n",
    "    # velocity boundary\n",
    "    uwat0_x2 = model(u0_x2_points)[:, 4].requires_grad_(True)\n",
    "    uwat1_x2 = model(u1_x2_points)[:, 4].requires_grad_(True)\n",
    "    uoil0_x2 = model(u0_x2_points)[:, 6].requires_grad_(True)\n",
    "    uoil1_x2 = model(u1_x2_points)[:, 6].requires_grad_(True)\n",
    "    \n",
    "    one_vector = torch.ones_like(model_res[:, 0])\n",
    "    zeros_vector = torch.zeros_like(model_res[:, 0])\n",
    "    \n",
    "    # functions r(t,x)\n",
    "    r1 = 0.1 * torch.autograd.grad(model_res[:, 2], t, \n",
    "                                   one_vector, \n",
    "                                   create_graph=True)[0] +\\\n",
    "    torch.autograd.grad(model_res[:, 5], x, \n",
    "                        one_vector, \n",
    "                        create_graph=True)[0] +\\\n",
    "    torch.autograd.grad(model_res[:, 6], y, \n",
    "                        one_vector, \n",
    "                        create_graph=True)[0]\n",
    "    \n",
    "    \n",
    "    r2 = 0.1 * torch.autograd.grad(model_res[:, 1], t, \n",
    "                                   one_vector, \n",
    "                                   create_graph=True)[0] +\\\n",
    "    torch.autograd.grad(model_res[:, 3], x, \n",
    "                        one_vector, \n",
    "                        create_graph=True)[0] +\\\n",
    "    torch.autograd.grad(model_res[:, 4], y, \n",
    "                        one_vector, \n",
    "                        create_graph=True)[0]\n",
    "    \n",
    "    \n",
    "    \n",
    "    r3_x1 = model_res[:, 5] + (torch.autograd.grad(model_res[:, 0], \n",
    "                                                   x, one_vector, \n",
    "                                                   create_graph=True)[0])\n",
    "    \n",
    "    r3_x2 = model_res[:, 6] + (torch.autograd.grad(model_res[:, 0], \n",
    "                                                   y, one_vector, \n",
    "                                                   create_graph=True)[0])\n",
    "    \n",
    "    r4_x1 = model_res[:, 3] + 0.1 * (torch.autograd.grad(model_res[:, 0], \n",
    "                                                         x, one_vector, \n",
    "                                                         create_graph=True)[0])\n",
    "    \n",
    "    r4_x2 = model_res[:, 4] + 0.1 * (torch.autograd.grad(model_res[:, 0], \n",
    "                                                         y, one_vector, \n",
    "                                                         create_graph=True)[0])\n",
    "    \n",
    "    r5 = model_res[:, 2] + model_res[:, 1] - one_vector\n",
    "    \n",
    "    \n",
    "    # Loss0\n",
    "    loss0 = torch.mean(r1**2 + r2**2 + r3_x1**2 + r3_x2**2 + \n",
    "                       r4_x1**2 + r4_x2**2 + r5**2).requires_grad_(True)\n",
    "    \n",
    "    # Loss1\n",
    "    loss1 = torch.mean((press0 - one_vector)**2 + press1**2 + \\\n",
    "                       (soil0 - one_vector)**2 + swat0**2 +\\\n",
    "                       uwat0_x2**2 + uwat1_x2**2 +\\\n",
    "                       uoil0_x2**2 + uoil1_x2**2).requires_grad_(True)\n",
    "    \n",
    "    # Loss2\n",
    "    loss2 = torch.mean((model_res[:,0] - simulation_data[:,0])**2 + (model_res[:,2] - simulation_data[:,1])**2 + \\\n",
    "                       (model_res[:,1] - simulation_data[:,2])**2).requires_grad_(True)\n",
    "    \n",
    "\n",
    "    # algo for weights adjustment\n",
    "    l1 = loss1.clone().detach().requires_grad_(True)\n",
    "    l2 = loss2.clone().detach().requires_grad_(True)\n",
    "    l0 = loss0.clone().detach().requires_grad_(True)\n",
    "    l1.backward(retain_graph=True)\n",
    "    l2.backward(retain_graph=True)\n",
    "    l0.backward(retain_graph=True)\n",
    "    w0 = abs(l0 / (l0 + l1 + l2))\n",
    "    w1 = abs(l1 / (l1 + l0 + l2))\n",
    "    w2 = abs(l2 / (l1 + l0 + l2))\n",
    "    \n",
    "    \n",
    "    # losses history\n",
    "    loss0_hist.append(loss0.detach().numpy())\n",
    "    loss1_hist.append(loss1.detach().numpy())\n",
    "    loss2_hist.append(loss2.detach().numpy())\n",
    "    \n",
    "    #weights history\n",
    "    w0_hist.append(w0.detach().numpy())\n",
    "    w1_hist.append(w1.detach().numpy())\n",
    "    w2_hist.append(w2.detach().numpy())\n",
    "    \n",
    "    \n",
    "    loss = w0*loss0 + w1*loss1 + w2*loss2\n",
    "    dist = loss0 + loss1 + loss2\n",
    "    loss.backward(retain_graph=True)\n",
    "    optimizer.step()\n",
    "    if cur_epoch % 250 == 0:\n",
    "        print(f'epoch: {cur_epoch}\\tloss: {float(dist.detach().numpy()), float(loss0.detach().numpy()), float(loss1.detach().numpy()), float(loss2.detach().numpy())}\\t')\n",
    "#         print(w0, '\\t', w1, '\\t', w2)"
   ]
  },
  {
   "cell_type": "code",
   "execution_count": 28,
   "id": "a3f723e3",
   "metadata": {},
   "outputs": [],
   "source": [
    "def main(model):\n",
    "    pwat = 2.0\n",
    "    poil = 4.0\n",
    "    vr = 0.3\n",
    "    kwat = 1.0\n",
    "    koil = 0.3\n",
    "\n",
    "    # pwat = 1.0\n",
    "    # poil = 1.0\n",
    "    # vr = 1.0\n",
    "    # kwat = 1.0\n",
    "    # koil = 1.0\n",
    "    pmin = 0.0\n",
    "    pmax = 1.0\n",
    "    nx0 = 50\n",
    "    nx1 = 30\n",
    "    nx2 = 1\n",
    "    dx0 = 1.0 / nx0\n",
    "    dx1 = 1.0 / nx1\n",
    "    dx2 = 1.0 / nx2\n",
    "    dt = 0.26e-1\n",
    "    niter = 100\n",
    "\n",
    "    poro = 0.1 + np.zeros((nx0, nx1, nx2))\n",
    "    perm = np.ones((nx0, nx1, nx2))\n",
    "    swat = np.zeros((nx0, nx1, nx2))\n",
    "    soil = np.ones((nx0, nx1, nx2))\n",
    "\n",
    "\n",
    "    pres, swat, soil = compute_solution(perm, poro,\n",
    "                                        dx0, dx1, dx2, dt * niter, niter,\n",
    "                                        pwat, kwat, poil, koil, vr,\n",
    "                                        pmin=0.0, pmax=1.0)\n",
    "    \n",
    "    time_for_model = (niter * dt) * torch.ones(1500)\n",
    "    x_for_model = dx0 * torch.arange(50)\n",
    "    y_for_model = dx1 * torch.arange(30)\n",
    "    cartesian_points = torch.cartesian_prod(x_for_model, y_for_model)\n",
    "    model_prediction = model(torch.stack((time_for_model, cartesian_points[:, 0], cartesian_points[:, 1]), -1))\n",
    "    model_prediction = model_prediction.detach().numpy()\n",
    "    \n",
    "    \n",
    "    \n",
    "    plt.figure()\n",
    "    plt.title('Water saturation, simulator')\n",
    "    plt.imshow(swat[:, :, :, -1])\n",
    "    plt.colorbar()\n",
    "    plt.xlabel('x')\n",
    "    plt.ylabel('y')\n",
    "    plt.savefig('color_swat_sim.png', facecolor='b')\n",
    "    plt.show()\n",
    "    \n",
    "    plt.figure()\n",
    "    plt.title('Water saturation, PINN')\n",
    "    plt.imshow(model_prediction[:, 2].reshape(nx0, nx1, nx2))\n",
    "    plt.colorbar()\n",
    "    plt.xlabel('x')\n",
    "    plt.ylabel('y')\n",
    "    plt.savefig('color_swat_pinn.png')\n",
    "    plt.show()\n",
    "    \n",
    "    plt.figure()\n",
    "    plt.title('Pressure, simulator')\n",
    "    plt.imshow(pres[:, :, :, -1])\n",
    "    plt.colorbar()\n",
    "    plt.xlabel('x')\n",
    "    plt.ylabel('y')\n",
    "    plt.savefig('color_pressure_sim.png')\n",
    "    plt.show()\n",
    "    \n",
    "\n",
    "    plt.figure()\n",
    "    plt.title('Pressure, PINN')\n",
    "    plt.imshow(model_prediction[:, 0].reshape(nx0, nx1, nx2))\n",
    "    plt.colorbar()\n",
    "    plt.xlabel('x')\n",
    "    plt.ylabel('y')\n",
    "    plt.savefig('color_pressure_pinn.png')\n",
    "    plt.show()    \n",
    "    \n",
    "    \n",
    "    plt.figure()\n",
    "    plt.title('Насыщенность воды')\n",
    "    plt.scatter(np.linspace(0.0, 1.0, nx0), swat[:, 0, 0, -1], label='Модель')\n",
    "    plt.scatter(np.linspace(0.0, 1.0, nx0), model_prediction[:, 2].reshape(nx0, nx1, nx2)[:, 0, 0], label='Симулятор')\n",
    "    plt.grid()\n",
    "    plt.xlabel('x')\n",
    "    plt.ylabel('y')\n",
    "    plt.legend()\n",
    "    plt.savefig('swat_scatter.png')\n",
    "    plt.show()\n",
    "\n",
    "\n",
    "    plt.figure()\n",
    "    plt.title('Pressure')\n",
    "    plt.scatter(np.linspace(0.0, 1.0, nx0), pres[:, 0, 0, -1], label='Симулятор')\n",
    "    plt.scatter(np.linspace(0.0, 1.0, nx0), model_prediction[:, 0].reshape(nx0, nx1, nx2)[:, 0, 0], label='Модель')\n",
    "    plt.grid()\n",
    "    plt.xlabel('x')\n",
    "    plt.ylabel('y')\n",
    "    plt.legend()\n",
    "    plt.savefig('pres_scatter.png')\n",
    "    plt.show()\n",
    "\n",
    "\n",
    "\n",
    "    return 0"
   ]
  },
  {
   "cell_type": "code",
   "execution_count": 29,
   "id": "1a699989",
   "metadata": {},
   "outputs": [
    {
     "data": {
      "image/png": "[encoded data removed]",
      "text/plain": [
       "<Figure size 640x480 with 2 Axes>"
      ]
     },
     "metadata": {},
     "output_type": "display_data"
    },
    {
     "data": {
      "image/png": "[encoded data removed]",
      "text/plain": [
       "<Figure size 640x480 with 2 Axes>"
      ]
     },
     "metadata": {},
     "output_type": "display_data"
    },
    {
     "data": {
      "image/png": "[encoded data removed]",
      "text/plain": [
       "<Figure size 640x480 with 2 Axes>"
      ]
     },
     "metadata": {},
     "output_type": "display_data"
    },
    {
     "data": {
      "image/png": "[encoded data removed]",
      "text/plain": [
       "<Figure size 640x480 with 2 Axes>"
      ]
     },
     "metadata": {},
     "output_type": "display_data"
    },
    {
     "data": {
      "image/png": "[encoded data removed]",
      "text/plain": [
       "<Figure size 640x480 with 1 Axes>"
      ]
     },
     "metadata": {},
     "output_type": "display_data"
    },
    {
     "data": {
      "image/png": "[encoded data removed]",
      "text/plain": [
       "<Figure size 640x480 with 1 Axes>"
      ]
     },
     "metadata": {},
     "output_type": "display_data"
    },
    {
     "data": {
      "text/plain": [
       "0"
      ]
     },
     "execution_count": 29,
     "metadata": {},
     "output_type": "execute_result"
    }
   ],
   "source": [
    "main(model)"
   ]
  },
  {
   "cell_type": "code",
   "execution_count": 98,
   "id": "12fba254",
   "metadata": {},
   "outputs": [],
   "source": [
    "metrics_train = pd.DataFrame({'Saturation': satur, 'Pressure': pres_train}, index=['MSE', 'MAE', 'R^2', 'RMSE'])"
   ]
  },
  {
   "cell_type": "code",
   "execution_count": 99,
   "id": "1ee27305",
   "metadata": {},
   "outputs": [
    {
     "data": {
      "text/html": [
       "<div>\n",
       "<style scoped>\n",
       "    .dataframe tbody tr th:only-of-type {\n",
       "        vertical-align: middle;\n",
       "    }\n",
       "\n",
       "    .dataframe tbody tr th {\n",
       "        vertical-align: top;\n",
       "    }\n",
       "\n",
       "    .dataframe thead th {\n",
       "        text-align: right;\n",
       "    }\n",
       "</style>\n",
       "<table border=\"1\" class=\"dataframe\">\n",
       "  <thead>\n",
       "    <tr style=\"text-align: right;\">\n",
       "      <th></th>\n",
       "      <th>Saturation</th>\n",
       "      <th>Pressure</th>\n",
       "    </tr>\n",
       "  </thead>\n",
       "  <tbody>\n",
       "    <tr>\n",
       "      <th>MSE</th>\n",
       "      <td>0.000163</td>\n",
       "      <td>0.004363</td>\n",
       "    </tr>\n",
       "    <tr>\n",
       "      <th>MAE</th>\n",
       "      <td>0.003605</td>\n",
       "      <td>0.054572</td>\n",
       "    </tr>\n",
       "    <tr>\n",
       "      <th>R^2</th>\n",
       "      <td>0.981737</td>\n",
       "      <td>0.961467</td>\n",
       "    </tr>\n",
       "    <tr>\n",
       "      <th>RMSE</th>\n",
       "      <td>0.012757</td>\n",
       "      <td>0.066054</td>\n",
       "    </tr>\n",
       "  </tbody>\n",
       "</table>\n",
       "</div>"
      ],
      "text/plain": [
       "      Saturation  Pressure\n",
       "MSE     0.000163  0.004363\n",
       "MAE     0.003605  0.054572\n",
       "R^2     0.981737  0.961467\n",
       "RMSE    0.012757  0.066054"
      ]
     },
     "execution_count": 99,
     "metadata": {},
     "output_type": "execute_result"
    }
   ],
   "source": [
    "metrics_train"
   ]
  },
  {
   "cell_type": "code",
   "execution_count": 81,
   "id": "cc5ccddf",
   "metadata": {},
   "outputs": [],
   "source": [
    "from sklearn.metrics import mean_absolute_error, mean_squared_error, r2_score"
   ]
  },
  {
   "cell_type": "code",
   "execution_count": 95,
   "id": "13df9b76",
   "metadata": {},
   "outputs": [],
   "source": [
    "model_pred_train = model(points).detach().numpy()"
   ]
  },
  {
   "cell_type": "code",
   "execution_count": 96,
   "id": "0366017b",
   "metadata": {},
   "outputs": [],
   "source": [
    "satur = [mean_squared_error(sim_data[:, 1], model_pred_train[:, 2]),\n",
    "         mean_absolute_error(sim_data[:, 1], model_pred_train[:, 2]),\n",
    "         r2_score(sim_data[:, 1], model_pred_train[:, 2]),\n",
    "         np.sqrt(mean_squared_error(sim_data[:, 1], model_pred_train[:, 2]))]"
   ]
  },
  {
   "cell_type": "code",
   "execution_count": 97,
   "id": "bb746602",
   "metadata": {},
   "outputs": [],
   "source": [
    "pres_train = [mean_squared_error(sim_data[:, 0], model_pred_train[:, 0]),\n",
    "         mean_absolute_error(sim_data[:, 0], model_pred_train[:, 0]),\n",
    "         r2_score(sim_data[:, 0], model_pred_train[:, 0]),\n",
    "         np.sqrt(mean_squared_error(sim_data[:, 0], model_pred_train[:, 0]))]"
   ]
  },
  {
   "cell_type": "code",
   "execution_count": null,
   "id": "0db4fa9f",
   "metadata": {},
   "outputs": [],
   "source": [
    "# x - vector (pres\n",
    "#             soil\n",
    "#             swat\n",
    "#             uoil_x,  \n",
    "#             uoil_y,\n",
    "#             uwat_x,  \n",
    "#             uwat_y)\n",
    "\n",
    "\n",
    "# 0 - pres, 1 - swat, 2 - soil"
   ]
  },
  {
   "cell_type": "code",
   "execution_count": 65,
   "id": "deccdca8",
   "metadata": {},
   "outputs": [],
   "source": [
    "def main_new(model):\n",
    "    perm = np.load('perm.npy')\n",
    "    nx0, nx1 = perm.shape\n",
    "    nx2 = 1\n",
    "    perm = np.reshape(perm, (nx0, nx1, nx2))\n",
    "    poro = 0.1 + np.zeros((nx0, nx1, nx2))\n",
    "\n",
    "    dx0 = 1.0 / nx0\n",
    "    dx1 = 1.0 / nx1\n",
    "    dx2 = 1.0 / nx2\n",
    "\n",
    "    pwat = 2.0\n",
    "    poil = 4.0\n",
    "    vr = 0.3\n",
    "    kwat = 1.0\n",
    "    koil = 0.3\n",
    "\n",
    "    pmin = 0.0\n",
    "    pmax = 1.0\n",
    "\n",
    "    dt = 0.26e-1\n",
    "    niter = 100\n",
    "\n",
    "\n",
    "    swat = np.zeros((nx0, nx1, nx2))\n",
    "    soil = np.ones((nx0, nx1, nx2))\n",
    "\n",
    "\n",
    "    pres, swat, soil = compute_solution(perm, poro,\n",
    "                                        dx0, dx1, dx2, dt * niter, niter,\n",
    "                                        pwat, kwat, poil, koil, vr,\n",
    "                                        pmin=0.0, pmax=1.0)\n",
    "    \n",
    "    time_for_model = (niter * dt) * torch.ones(64 * 64)\n",
    "    x_for_model = dx0 * torch.arange(64)\n",
    "    y_for_model = dx1 * torch.arange(64)\n",
    "    cartesian_points = torch.cartesian_prod(x_for_model, y_for_model)\n",
    "    model_prediction = model(torch.stack((time_for_model, cartesian_points[:, 0], cartesian_points[:, 1]), -1))\n",
    "    model_prediction = model_prediction.detach().numpy()\n",
    "    \n",
    "    \n",
    "    \n",
    "    plt.figure()\n",
    "    plt.title('Water saturation, simulator')\n",
    "    plt.imshow(swat[:, :, :, -1])\n",
    "    plt.colorbar()\n",
    "    plt.xlabel('x')\n",
    "    plt.ylabel('y')\n",
    "    plt.savefig('color_swat_sim.png')\n",
    "    plt.show()\n",
    "    \n",
    "    plt.figure()\n",
    "    plt.title('Water saturation, PINN')\n",
    "    plt.imshow(model_prediction[:, 2].reshape(nx0, nx1, nx2))\n",
    "    plt.colorbar()\n",
    "    plt.xlabel('x')\n",
    "    plt.ylabel('y')\n",
    "    plt.savefig('color_swat_pinn.png')\n",
    "    plt.show()\n",
    "    \n",
    "    plt.figure()\n",
    "    plt.title('Pressure, simulator')\n",
    "    plt.imshow(pres[:, :, :, -1])\n",
    "    plt.colorbar()\n",
    "    plt.xlabel('x')\n",
    "    plt.ylabel('y')\n",
    "    plt.savefig('color_pressure_sim.png')\n",
    "    plt.show()\n",
    "    \n",
    "\n",
    "    plt.figure()\n",
    "    plt.title('Pressure, PINN')\n",
    "    plt.imshow(model_prediction[:, 0].reshape(nx0, nx1, nx2))\n",
    "    plt.colorbar()\n",
    "    plt.xlabel('x')\n",
    "    plt.ylabel('y')\n",
    "    plt.savefig('color_pressure_pinn.png')\n",
    "    plt.show()    \n",
    "    \n",
    "    \n",
    "    plt.figure()\n",
    "    plt.title('Water saturation at t = 0')\n",
    "    plt.scatter(np.linspace(0.0, 1.0, nx0), swat[:, 0, 0, -1], label='Simulator')\n",
    "    plt.scatter(np.linspace(0.0, 1.0, nx0), model_prediction[:, 2].reshape(nx0, nx1, nx2)[:, 0, 0], label='PINN')\n",
    "    plt.grid()\n",
    "    plt.xlabel('x')\n",
    "    plt.ylabel('y')\n",
    "    plt.legend()\n",
    "    plt.savefig('swat_scatter.png')\n",
    "    plt.show()\n",
    "\n",
    "\n",
    "    plt.figure()\n",
    "    plt.title('Pressure at t = 0')\n",
    "    plt.scatter(np.linspace(0.0, 1.0, nx0), pres[:, 0, 0, -1], label='Simulator')\n",
    "    plt.scatter(np.linspace(0.0, 1.0, nx0), model_prediction[:, 0].reshape(nx0, nx1, nx2)[:, 0, 0], label='PINN')\n",
    "    plt.grid()\n",
    "    plt.xlabel('x')\n",
    "    plt.ylabel('y')\n",
    "    plt.legend()\n",
    "    plt.savefig('pres_scatter.png')\n",
    "    plt.show()\n",
    "\n",
    "\n",
    "\n",
    "    return 0"
   ]
  },
  {
   "cell_type": "code",
   "execution_count": 76,
   "id": "aef97b3e",
   "metadata": {},
   "outputs": [
    {
     "data": {
      "image/png": "[encoded data removed]",
      "text/plain": [
       "<Figure size 640x480 with 2 Axes>"
      ]
     },
     "metadata": {},
     "output_type": "display_data"
    },
    {
     "data": {
      "image/png": "[encoded data removed]",
      "text/plain": [
       "<Figure size 640x480 with 2 Axes>"
      ]
     },
     "metadata": {},
     "output_type": "display_data"
    },
    {
     "data": {
      "image/png": "[encoded data removed]",
      "text/plain": [
       "<Figure size 640x480 with 2 Axes>"
      ]
     },
     "metadata": {},
     "output_type": "display_data"
    },
    {
     "data": {
      "image/png": "[encoded data removed]",
      "text/plain": [
       "<Figure size 640x480 with 2 Axes>"
      ]
     },
     "metadata": {},
     "output_type": "display_data"
    },
    {
     "data": {
      "image/png": "[encoded data removed]",
      "text/plain": [
       "<Figure size 640x480 with 1 Axes>"
      ]
     },
     "metadata": {},
     "output_type": "display_data"
    },
    {
     "data": {
      "image/png": "[encoded data removed]",
      "text/plain": [
       "<Figure size 640x480 with 1 Axes>"
      ]
     },
     "metadata": {},
     "output_type": "display_data"
    },
    {
     "data": {
      "text/plain": [
       "0"
      ]
     },
     "execution_count": 76,
     "metadata": {},
     "output_type": "execute_result"
    }
   ],
   "source": [
    "main_new(model)"
   ]
  },
  {
   "cell_type": "code",
   "execution_count": null,
   "id": "4fe6e654",
   "metadata": {},
   "outputs": [],
   "source": []
  }
 ],
 "metadata": {
  "kernelspec": {
   "display_name": "kernel_3.11",
   "language": "python",
   "name": "kernel_3.11"
  },
  "language_info": {
   "codemirror_mode": {
    "name": "ipython",
    "version": 3
   },
   "file_extension": ".py",
   "mimetype": "text/x-python",
   "name": "python",
   "nbconvert_exporter": "python",
   "pygments_lexer": "ipython3",
   "version": "3.11.1"
  }
 },
 "nbformat": 4,
 "nbformat_minor": 5
}
