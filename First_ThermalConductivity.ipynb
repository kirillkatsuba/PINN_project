{
 "cells": [
  {
   "cell_type": "code",
   "execution_count": 1,
   "id": "1848d961",
   "metadata": {},
   "outputs": [],
   "source": [
    "import torch\n",
    "import torch.nn as nn\n",
    "import torch.nn.functional as F\n",
    "import numpy as np\n",
    "import matplotlib.pyplot as plt"
   ]
  },
  {
   "cell_type": "markdown",
   "id": "d2094b82",
   "metadata": {},
   "source": [
    "The thermal conductivity equation:\n",
    "$\\frac{\\partial T}{\\partial t} - \\frac{{\\partial}^2 T}{\\partial x^2} = 0$\n",
    "\n",
    "Assume $ T(t, x) = 2 + e^{-4 \\pi^2 t} sin(2\\pi x) + e^{-16\\pi^2 t} cos(4\\pi x)$, $x\\in[0,1], t\\in[0, 0.05]$\n",
    "$\\\\$Boundary condition $T_0 = T(0, x) = 2 + sin(2\\pi x) + cos(4\\pi x)$"
   ]
  },
  {
   "cell_type": "code",
   "execution_count": 2,
   "id": "a86c6621",
   "metadata": {},
   "outputs": [],
   "source": [
    "#define amount of sample points\n",
    "N = 500"
   ]
  },
  {
   "cell_type": "code",
   "execution_count": 3,
   "id": "67f284f2",
   "metadata": {},
   "outputs": [],
   "source": [
    "#in the beginning we plot graph of the thermal conductivity process\n",
    "def f_real(t, x):\n",
    "    return (2 + torch.exp(-4*(torch.pi**2)*t)*torch.sin(2*torch.pi*x) + torch.exp(-16*(torch.pi**2)*t)*torch.cos(4*torch.pi*x))"
   ]
  },
  {
   "cell_type": "code",
   "execution_count": 4,
   "id": "1569e1a1",
   "metadata": {},
   "outputs": [],
   "source": [
    "# # Now we want to get test points from equation in first cell\n",
    "# x_data = torch.rand(N).view(-1,1)\n",
    "# t_data = 0.05 * torch.rand(N).view(-1,1)"
   ]
  },
  {
   "cell_type": "code",
   "execution_count": 5,
   "id": "dba50661",
   "metadata": {},
   "outputs": [],
   "source": [
    "#define the class PINN\n",
    "class PINN(nn.Module):\n",
    "    def __init__(self,input_layer=2,h1=64,h2=64,h3=64,output_layer=1):\n",
    "        super().__init__()\n",
    "        self.fc1 = nn.Linear(input_layer,h1)\n",
    "        self.fc2 = nn.Linear(h1,h2)\n",
    "        self.fc3 = nn.Linear(h2,h3)\n",
    "        self.fc4 = nn.Linear(h3,output_layer)\n",
    "        \n",
    "    def forward(self, x):\n",
    "        x = F.gelu(self.fc1(x))\n",
    "        x = F.gelu(self.fc2(x))\n",
    "        x = F.gelu(self.fc3(x))\n",
    "        x = F.gelu(self.fc4(x))\n",
    "        \n",
    "        return x"
   ]
  },
  {
   "cell_type": "code",
   "execution_count": 6,
   "id": "dc5f4e23",
   "metadata": {},
   "outputs": [],
   "source": [
    "#torch.manual_seed(41)"
   ]
  },
  {
   "cell_type": "code",
   "execution_count": 20,
   "id": "066fcf28",
   "metadata": {},
   "outputs": [],
   "source": [
    "pinn = PINN()\n",
    "optimizer = torch.optim.SGD(pinn.parameters(), lr=0.01) \n",
    "#scheduler = torch.optim.lr_scheduler.StepLR(optimizer, step_size = 60, gamma=0.5)\n",
    "scheduler = torch.optim.lr_scheduler.ReduceLROnPlateau(optimizer, 'min', factor=0.7)"
   ]
  },
  {
   "cell_type": "markdown",
   "id": "ee037300",
   "metadata": {},
   "source": [
    "Loss1 = $\\frac{1}{N} \\sum_{i=1}^{N}(T(t_i, x_i)- f_{PINN}(t_i, x_i))^2$\n",
    "\n",
    "Loss2 = $\\frac{1}{N} \\sum_{i=1}^{N}(T_0(x_i)- f_{PINN}(0, x_i))^2$\n",
    "\n",
    "Loss3 = $\\frac{1}{N} \\sum_{i=1}^{N}(\\frac{\\partial}{\\partial t}f_{PINN}(t_i, x_i) - \\frac{{\\partial}^2 }{\\partial x^2}f_{PINN}(t_i, x_i))^2$"
   ]
  },
  {
   "cell_type": "code",
   "execution_count": 21,
   "id": "f79331c5",
   "metadata": {},
   "outputs": [
    {
     "name": "stdout",
     "output_type": "stream",
     "text": [
      "epoch: 0\tamount of loss: 4.616069793701172\t\n",
      "epoch: 2000\tamount of loss: 1.0899661779403687\t\n",
      "epoch: 4000\tamount of loss: 1.1170268058776855\t\n",
      "epoch: 6000\tamount of loss: 0.9831193089485168\t\n",
      "epoch: 8000\tamount of loss: 0.9747306108474731\t\n"
     ]
    }
   ],
   "source": [
    "\"\"\"\n",
    "Neural network training using sum of MSE, boundary condition and partial dirivatives.\n",
    "\"\"\"\n",
    "epochs = 10000\n",
    "\n",
    "for i in range(epochs):\n",
    "    \n",
    "    x_phys = torch.rand(N).view(-1,1)\n",
    "    t_ = 0.05 * torch.rand(N).view(-1,1)\n",
    "    t_phys = t_.requires_grad_(True)\n",
    "    points = torch.stack((t_phys,x_phys), -1)\n",
    "    points_bc = torch.stack((torch.zeros(N,1), x_phys), -1)\n",
    "    \n",
    "    network = pinn.forward(points)\n",
    "    network_bc = pinn.forward(points_bc)\n",
    "    \n",
    "    loss = torch.mean((f_real(t_phys, x_phys) - network)**2)\n",
    "    loss = torch.mean((f_real(torch.zeros_like(x_phys), x_phys) - network_bc)**2)\n",
    "    \n",
    "    #compute loss using derivatives\n",
    "    dt = torch.autograd.grad(network, t_phys, torch.ones_like(network), create_graph=True)[0]\n",
    "    dx = torch.autograd.grad(network, x_phys, torch.ones_like(network), create_graph=True)[0]\n",
    "    dx2 = torch.autograd.grad(dx, x_phys, torch.ones_like(dx), create_graph=True)[0]\n",
    "    loss3 = torch.mean((dt - dx2)**2)\n",
    "    \n",
    "    loss = loss2 + loss3 + loss1\n",
    "    loss.backward()\n",
    "    \n",
    "    optimizer.step()\n",
    "    scheduler.step(loss)\n",
    "    if i % 2000 == 0:\n",
    "        print(f'epoch: {i}\\tamount of loss: {loss}\\t')#learning rate: {scheduler.get_last_lr()}')"
   ]
  },
  {
   "cell_type": "code",
   "execution_count": 22,
   "id": "ed34d339",
   "metadata": {},
   "outputs": [
    {
     "data": {
      "image/png": "[encoded data removed]",
      "text/plain": [
       "<Figure size 640x480 with 1 Axes>"
      ]
     },
     "metadata": {},
     "output_type": "display_data"
    }
   ],
   "source": [
    "xs = torch.linspace(0, 1, 100)\n",
    "ts = torch.zeros(100)\n",
    "graph_points = torch.stack((ts, xs), axis=-1)\n",
    "#print(graph_points)\n",
    "T_nn = pinn.forward(graph_points).view(100)\n",
    "plt.plot(xs.numpy(), T_nn.detach().numpy())\n",
    "T_real = f_real(ts, xs).view(100)\n",
    "plt.plot(xs.numpy(), T_real.numpy())\n",
    "\n",
    "plt.plot()\n",
    "plt.show()"
   ]
  }
 ],
 "metadata": {
  "kernelspec": {
   "display_name": "Python 3 (ipykernel)",
   "language": "python",
   "name": "python3"
  },
  "language_info": {
   "codemirror_mode": {
    "name": "ipython",
    "version": 3
   },
   "file_extension": ".py",
   "mimetype": "text/x-python",
   "name": "python",
   "nbconvert_exporter": "python",
   "pygments_lexer": "ipython3",
   "version": "3.11.1"
  }
 },
 "nbformat": 4,
 "nbformat_minor": 5
}
